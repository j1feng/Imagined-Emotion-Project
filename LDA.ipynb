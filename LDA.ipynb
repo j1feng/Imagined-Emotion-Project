{
 "cells": [
  {
   "cell_type": "code",
   "execution_count": 1,
   "metadata": {},
   "outputs": [],
   "source": [
    "import numpy as np\n",
    "import pandas as pd\n",
    "import matplotlib.pyplot as plt\n",
    "import seaborn as sns\n",
    "from sklearn.discriminant_analysis import LinearDiscriminantAnalysis\n",
    "from sklearn.model_selection import train_test_split\n",
    "from sklearn.model_selection import KFold"
   ]
  },
  {
   "cell_type": "markdown",
   "metadata": {},
   "source": [
    "## Preparing Dataframe"
   ]
  },
  {
   "cell_type": "code",
   "execution_count": 2,
   "metadata": {},
   "outputs": [
    {
     "name": "stdout",
     "output_type": "stream",
     "text": [
      "(426, 66) (1477, 66) (310, 66) (310, 66)\n",
      "(2523, 66)\n",
      "Number of Statuses: 27\n"
     ]
    }
   ],
   "source": [
    "rec1 = pd.read_csv('rec1.csv')\n",
    "rec2 = pd.read_csv('rec2.csv')\n",
    "rec3 = pd.read_csv('rec3.csv')\n",
    "rec4 = pd.read_csv('rec4.csv')\n",
    "print(rec1.shape, rec2.shape, rec3.shape, rec4.shape)\n",
    "\n",
    "# Concatenate the 4 participants into one dataframe\n",
    "df = pd.concat([rec1, rec2, rec3, rec4], ignore_index=True)\n",
    "print(df.shape)\n",
    "\n",
    "# Drop redundant indexing column\n",
    "df = df.drop('Unnamed: 0', axis=1)\n",
    "\n",
    "# Number of target statuses\n",
    "targets = df['Status'].unique()\n",
    "print('Number of Statuses: ' + str(len(targets)))\n",
    "\n",
    "# Seperate dataframe into predictors and targets\n",
    "X = df[df.columns[:-1]]\n",
    "y = df[df.columns[-1]]"
   ]
  },
  {
   "cell_type": "markdown",
   "metadata": {},
   "source": [
    "## Renaming Statuses (Ignore for now)"
   ]
  },
  {
   "cell_type": "raw",
   "metadata": {},
   "source": [
    "#statuses = df['Status'].unique()\n",
    "print(statuses)\n",
    "print(df['Status'].value_counts())"
   ]
  },
  {
   "cell_type": "raw",
   "metadata": {},
   "source": [
    "# Assign each status a positive, negative, or instructional emotion type\n",
    "pos_stat = [9, 11, 13, 15, 17, 19, 21, 22]\n",
    "neg_stat = [10, 12, 14, 16, 18, 23]\n",
    "inst_stat = [1, 2, 3, 4, 5, 6, 7, 8, 24, 25, 26, 30]"
   ]
  },
  {
   "cell_type": "raw",
   "metadata": {},
   "source": [
    "# Replace numeric statuses with their respective category\n",
    "def replace_status(df):\n",
    "    for row in df['Status']:\n",
    "        if row in pos_stat:\n",
    "            df['Status'].replace(row, 'positive', inplace=True)\n",
    "        elif row in neg_stat:\n",
    "            df['Status'].replace(row, 'negative', inplace=True)\n",
    "        else:\n",
    "            df['Status'].replace(row, 'instruction', inplace=True)"
   ]
  },
  {
   "cell_type": "raw",
   "metadata": {},
   "source": [
    "replace_status(df)\n",
    "\n",
    "# Show how many of each emotional/instructional category\n",
    "print(df['Status'].value_counts())"
   ]
  },
  {
   "cell_type": "markdown",
   "metadata": {},
   "source": [
    "## LDA"
   ]
  },
  {
   "cell_type": "code",
   "execution_count": 4,
   "metadata": {},
   "outputs": [
    {
     "name": "stdout",
     "output_type": "stream",
     "text": [
      "Mean training score: 0.8358106904133231\n",
      "Mean testing score: 0.785977526324061\n"
     ]
    }
   ],
   "source": [
    "# LDA Classifier\n",
    "clf_lda = LinearDiscriminantAnalysis()\n",
    "\n",
    "# 5-fold cross validation\n",
    "kf = KFold(n_splits = 5, shuffle=True, random_state=0)\n",
    "\n",
    "train_scores = []\n",
    "test_scores = []\n",
    "\n",
    "# Obtain and iterate over train and test indices\n",
    "for train_index, test_index in kf.split(X):\n",
    "    \n",
    "    X_train, X_test = X.iloc[train_index], X.iloc[test_index]\n",
    "    y_train, y_test = y.iloc[train_index], y.iloc[test_index]\n",
    "    \n",
    "    # Train LDA classifier\n",
    "    clf_lda.fit(X_train, y_train)\n",
    "    \n",
    "    # Obtain training and testing scores\n",
    "    train_scores.append(clf_lda.score(X_train, y_train))\n",
    "    test_scores.append(clf_lda.score(X_test, y_test))\n",
    "    \n",
    "print('Mean training score: ' + str(np.mean(train_scores)))\n",
    "print('Mean testing score: ' + str(np.mean(test_scores)))"
   ]
  }
 ],
 "metadata": {
  "kernelspec": {
   "display_name": "Python 3",
   "language": "python",
   "name": "python3"
  },
  "language_info": {
   "codemirror_mode": {
    "name": "ipython",
    "version": 3
   },
   "file_extension": ".py",
   "mimetype": "text/x-python",
   "name": "python",
   "nbconvert_exporter": "python",
   "pygments_lexer": "ipython3",
   "version": "3.7.1"
  }
 },
 "nbformat": 4,
 "nbformat_minor": 2
}
