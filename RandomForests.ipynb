{
 "cells": [
  {
   "cell_type": "code",
   "execution_count": 1,
   "metadata": {},
   "outputs": [],
   "source": [
    "import numpy as np\n",
    "import pandas as pd\n",
    "import matplotlib.pyplot as plt\n",
    "import seaborn as sns\n",
    "from sklearn.model_selection import GridSearchCV\n",
    "from sklearn.ensemble import RandomForestsClassifier"
   ]
  },
  {
   "cell_type": "markdown",
   "metadata": {},
   "source": [
    "## Preparing Dataframe"
   ]
  },
  {
   "cell_type": "code",
   "execution_count": 2,
   "metadata": {},
   "outputs": [
    {
     "name": "stdout",
     "output_type": "stream",
     "text": [
      "(426, 66) (1477, 66) (310, 66) (310, 66)\n",
      "(2523, 66)\n",
      "Number of Statuses: 27\n"
     ]
    }
   ],
   "source": [
    "rec1 = pd.read_csv('rec1.csv')\n",
    "rec2 = pd.read_csv('rec2.csv')\n",
    "rec3 = pd.read_csv('rec3.csv')\n",
    "rec4 = pd.read_csv('rec4.csv')\n",
    "print(rec1.shape, rec2.shape, rec3.shape, rec4.shape)\n",
    "\n",
    "# Concatenate the 4 participants into one dataframe\n",
    "df = pd.concat([rec1, rec2, rec3, rec4], ignore_index=True)\n",
    "print(df.shape)\n",
    "\n",
    "# Drop redundant indexing column\n",
    "df = df.drop('Unnamed: 0', axis=1)\n",
    "\n",
    "# Number of target statuses\n",
    "targets = df['Status'].unique()\n",
    "print('Number of Statuses: ' + str(len(targets)))\n",
    "\n",
    "# Seperate dataframe into predictors and targets\n",
    "X = df[df.columns[:-1]]\n",
    "y = df[df.columns[-1]]"
   ]
  },
  {
   "cell_type": "code",
   "execution_count": null,
   "metadata": {},
   "outputs": [],
   "source": []
  }
 ],
 "metadata": {
  "kernelspec": {
   "display_name": "Python 3",
   "language": "python",
   "name": "python3"
  },
  "language_info": {
   "codemirror_mode": {
    "name": "ipython",
    "version": 3
   },
   "file_extension": ".py",
   "mimetype": "text/x-python",
   "name": "python",
   "nbconvert_exporter": "python",
   "pygments_lexer": "ipython3",
   "version": "3.7.1"
  }
 },
 "nbformat": 4,
 "nbformat_minor": 2
}
