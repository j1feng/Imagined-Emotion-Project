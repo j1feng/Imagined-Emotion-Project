{
 "cells": [
  {
   "cell_type": "code",
   "execution_count": 1,
   "metadata": {},
   "outputs": [],
   "source": [
    "import numpy as np\n",
    "import pandas as pd\n",
    "import matplotlib.pyplot as plt\n",
    "import seaborn as sns\n",
    "from sklearn.model_selection import train_test_split\n",
    "from sklearn.model_selection import RandomizedSearchCV\n",
    "from sklearn.ensemble import RandomForestClassifier"
   ]
  },
  {
   "cell_type": "markdown",
   "metadata": {},
   "source": [
    "## Preparing Dataframe"
   ]
  },
  {
   "cell_type": "code",
   "execution_count": 2,
   "metadata": {},
   "outputs": [
    {
     "name": "stdout",
     "output_type": "stream",
     "text": [
      "(426, 66) (1477, 66) (310, 66) (310, 66)\n",
      "(2523, 66)\n",
      "Number of Statuses: 27\n"
     ]
    }
   ],
   "source": [
    "rec1 = pd.read_csv('rec1.csv')\n",
    "rec2 = pd.read_csv('rec2.csv')\n",
    "rec3 = pd.read_csv('rec3.csv')\n",
    "rec4 = pd.read_csv('rec4.csv')\n",
    "print(rec1.shape, rec2.shape, rec3.shape, rec4.shape)\n",
    "\n",
    "# Concatenate the 4 participants into one dataframe\n",
    "df = pd.concat([rec1, rec2, rec3, rec4], ignore_index=True)\n",
    "print(df.shape)\n",
    "\n",
    "# Drop redundant indexing column\n",
    "df = df.drop('Unnamed: 0', axis=1)\n",
    "\n",
    "# Number of target statuses\n",
    "targets = df['Status'].unique()\n",
    "print('Number of Statuses: ' + str(len(targets)))\n",
    "\n",
    "# Separate dataframe into predictors and targets\n",
    "X = df[df.columns[:-1]]\n",
    "y = df[df.columns[-1]]\n",
    "\n",
    "# Split predictors and targets into training and testing sets\n",
    "X_train, X_test, y_train, y_test = train_test_split(X, y, test_size=0.2, random_state=0)"
   ]
  },
  {
   "cell_type": "markdown",
   "metadata": {},
   "source": [
    "## Random Forests"
   ]
  },
  {
   "cell_type": "code",
   "execution_count": 3,
   "metadata": {},
   "outputs": [],
   "source": [
    "# Random Forest Classifier\n",
    "clf_rf = RandomForestClassifier(random_state=0)\n",
    "\n",
    "# Hyperparameters for RF classifier\n",
    "params = {\n",
    "    'n_estimators': [100, 200, 300, 400, 500, 600, 700, 800, 900, 1000],\n",
    "    'max_depth': [10, 20, 30, 40, 50, 60, 70, 80 ,90, 100],\n",
    "    'min_samples_split': [2, 5, 10],\n",
    "    'min_samples_leaf': [1, 2, 5]\n",
    "}\n",
    "\n",
    "# Randomized search to find optimal hyperparameters\n",
    "rand_rf = RandomizedSearchCV(clf_rf, params, n_jobs=-1, iid=False, cv=5, return_train_score=True)\n",
    "\n",
    "result_rf = rand_rf.fit(X_train, y_train)"
   ]
  },
  {
   "cell_type": "code",
   "execution_count": 4,
   "metadata": {},
   "outputs": [
    {
     "name": "stdout",
     "output_type": "stream",
     "text": [
      "{'n_estimators': 800, 'min_samples_split': 2, 'min_samples_leaf': 1, 'max_depth': 90}\n"
     ]
    }
   ],
   "source": [
    "# Obtained optimal hyperparameter values\n",
    "print(result_rf.best_params_)"
   ]
  },
  {
   "cell_type": "code",
   "execution_count": 7,
   "metadata": {},
   "outputs": [
    {
     "name": "stdout",
     "output_type": "stream",
     "text": [
      "Train Score: 1.0\n",
      "Test Score: 0.9782178217821782\n"
     ]
    }
   ],
   "source": [
    "# Calculate accuracy of optimized RF model\n",
    "train_score = result_rf.score(X_train, y_train)\n",
    "test_score = result_rf.score(X_test, y_test)\n",
    "\n",
    "print('Train Score: ' + str(train_score))\n",
    "print('Test Score: ' + str(test_score))"
   ]
  },
  {
   "cell_type": "code",
   "execution_count": null,
   "metadata": {},
   "outputs": [],
   "source": []
  }
 ],
 "metadata": {
  "kernelspec": {
   "display_name": "Python 3",
   "language": "python",
   "name": "python3"
  },
  "language_info": {
   "codemirror_mode": {
    "name": "ipython",
    "version": 3
   },
   "file_extension": ".py",
   "mimetype": "text/x-python",
   "name": "python",
   "nbconvert_exporter": "python",
   "pygments_lexer": "ipython3",
   "version": "3.7.3"
  }
 },
 "nbformat": 4,
 "nbformat_minor": 2
}
