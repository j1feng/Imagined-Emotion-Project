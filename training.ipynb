{
 "cells": [
  {
   "cell_type": "code",
   "execution_count": 2,
   "metadata": {},
   "outputs": [
    {
     "name": "stdout",
     "output_type": "stream",
     "text": [
      "27\n",
      "[7, 4, 30, 26, 30, 22, 8, 26, 7, 7, 30, 22, 30, 25, 26, 22, 26, 22, 26, 22, 26, 7, 22, 30, 30, 30, 30, 4, 16, 30, 9, 26, 24, 26, 26, 3, 30, 26, 26, 22, 7, 25, 24, 7, 30, 21, 30, 26, 26, 30, 7, 26, 30, 30, 25, 15, 30, 30, 7, 2, 22, 30, 22, 26, 26, 8, 30, 26, 1, 26, 3, 4, 30, 7, 18, 30, 30, 30, 30, 30, 30, 2, 30, 7, 22, 30, 26, 22, 11, 30, 26, 26, 26, 30, 22, 30, 30, 26, 30, 30, 7, 30, 17, 7, 26, 26, 1, 30, 30, 30, 30, 22, 7, 7, 30, 22, 7, 22, 7, 26, 26, 4, 30, 30, 26, 5, 30, 26, 26, 22, 30, 22, 30, 26, 22, 7, 26, 30, 12, 7, 26, 26, 30, 22, 22, 26, 22, 22, 30, 26, 22, 1, 30, 18, 7, 22, 30, 2, 7, 26, 30, 30, 7, 30, 7, 22, 26, 30, 26, 26, 30, 26, 30, 12, 30, 22, 30, 26, 17, 7, 30, 30, 7, 5, 30, 23, 30, 30, 30, 6, 7, 13, 20, 24, 26, 22, 30, 26, 30, 26, 26, 26, 30, 30, 20, 26, 26, 30, 22, 26, 26, 30, 26, 19, 24, 30, 30, 26, 3, 7, 26, 14, 30, 10, 30, 26, 26, 26, 26, 22, 7, 26, 30, 11, 26, 22, 26, 10, 30, 30, 26, 26, 30, 30, 7, 30, 30, 30, 6, 22, 26, 26, 30, 30, 16, 30, 26, 14, 30, 26, 25, 11, 5, 30, 26, 26, 30, 26, 25, 30, 7, 30, 26, 30, 26, 13, 16, 18, 26, 22, 30, 26, 7, 22, 30, 22, 30, 26, 26, 30, 22, 25, 7, 14, 19, 22, 26, 30, 7, 30, 7, 30, 22, 30, 20, 30, 30, 26, 30, 10, 18, 7, 7, 30, 26, 30, 22, 30, 26, 30, 30, 30, 22, 26, 30, 7, 23, 26, 26, 30, 26, 30, 19, 26, 30, 7, 30, 7, 26, 11, 26, 2, 26, 26, 30, 22, 26, 13, 15, 26, 30, 30, 26, 21, 30, 30, 22, 30, 14, 30, 7, 7, 26, 30, 30, 21, 7, 26, 30, 30, 26, 30, 7, 30, 22, 26, 5, 25, 12, 26, 30, 30, 30, 26, 22, 7, 26, 26, 26, 26, 8, 30, 7, 26, 26, 7, 30, 26, 30, 26, 30, 6, 7, 26, 8, 23, 30, 9, 22, 26, 30, 30, 30, 14, 7, 14, 10, 30, 17, 26, 22, 15, 9, 30, 30, 7]\n",
      "53\n",
      "53\n",
      "320\n"
     ]
    },
    {
     "name": "stderr",
     "output_type": "stream",
     "text": [
      "/opt/conda/lib/python3.7/site-packages/sklearn/svm/base.py:193: FutureWarning: The default value of gamma will change from 'auto' to 'scale' in version 0.22 to account better for unscaled features. Set gamma explicitly to 'auto' or 'scale' to avoid this warning.\n",
      "  \"avoid this warning.\", FutureWarning)\n"
     ]
    },
    {
     "data": {
      "text/plain": [
       "array([30, 30, 30, 30, 30, 30, 30, 30, 30, 30, 30, 30, 30, 30, 30, 30, 30,\n",
       "       30, 30, 30, 30, 30, 30, 30, 30, 30, 30, 30, 30, 30, 30, 30, 30, 30,\n",
       "       30, 30, 30, 30, 30, 30, 30, 30, 30, 30, 30, 30, 30, 30, 30, 30, 30,\n",
       "       30, 30])"
      ]
     },
     "execution_count": 2,
     "metadata": {},
     "output_type": "execute_result"
    }
   ],
   "source": [
    "#!pip install --user pandas\n",
    "#!pip install --user numpy\n",
    "#!pip install --user sklearn\n",
    "\n",
    "import csv\n",
    "import pandas as pd\n",
    "import numpy as np\n",
    "from sklearn import svm\n",
    "from sklearn.utils import shuffle\n",
    "\n",
    "'''\n",
    "with open('rec1.csv', newline='') as csvfile:\n",
    "    reader = csv.reader(csvfile)\n",
    "    fields = next(reader)\n",
    "    rows = []\n",
    "    for row in reader:\n",
    "        rows.append(row)\n",
    "    print(\"Total no. of rows: %d\"%(reader.line_num))\n",
    "\n",
    "# printing the field names \n",
    "print('Field names are:' + ', '.join(field for field in fields)) \n",
    "  \n",
    "#  printing first 5 rows \n",
    "print('\\nFirst 5 rows are:\\n') \n",
    "for row in rows[:5]: \n",
    "    # parsing each column of a row \n",
    "    for col in row: \n",
    "        print(\"%10s\"%col), \n",
    "    print('\\n')\n",
    "'''\n",
    "\n",
    "import pandas\n",
    "df = pandas.read_csv('rec1.csv')\n",
    "#print(df)\n",
    "#print(df.head())\n",
    "\n",
    "data = [[]]\n",
    "label = []\n",
    "\n",
    "for index, row in df.iterrows():\n",
    "    label.append(int(row['Status']))\n",
    "    data.append([row['1A1'], row['1A16'], row['1A19'],row['1A21'],row['1A24'],row['1A3'],row['1A6'],row['1A7'],row['1B15'],row['1B18'],\n",
    "               row['1B21'],row['1B23'],row['1B26'],row['1B30'],row['1B7'],row['1B9'],row['1C11'],row['1C13'],row['1C15'],row['1C18'],\n",
    "               row['1C20'],row['1C23'],row['1C25'],row['1D12'],row['1D20'],row['1D24'],row['1D27'],row['1D30'],row['1D32'],row['1D5'],\n",
    "               row['1D7'],row['1D9'],row['1E1'],row['1E12'],row['1E14'],row['1E17'],row['1E23'],row['1E29'],row['1E3'],row['1E31'],\n",
    "               row['1E6'],row['1EX3'],row['1EX5'],row['1F10'],row['1F14'],row['1F21'],row['1F23'],row['1F28'],row['1F3'],\n",
    "               row['1F31'],row['1F7'],row['1G11'],row['1G13'],row['1G16'],row['1G23'],row['1G25'],row['1G30'],row['1G32'],row['1G8'],\n",
    "               row['1H16'],row['1H19'],row['1H2'],row['1H6'],row['1H9']])\n",
    "\n",
    "print(len(set(list(label))))\n",
    "data.remove([])\n",
    "\n",
    "label, data = shuffle(label,data, random_state=0)\n",
    "print(label)\n",
    "\n",
    "# partition\n",
    "validation_data = data[:int(len(data)/8)]\n",
    "testing_data = data[int(len(data)/8):int(len(data)/4)]\n",
    "training_data = data[int(len(data)/4):]\n",
    "\n",
    "# partition\n",
    "validation_label = label[:int(len(label)/8)]\n",
    "testing_label = label[int(len(label)/8):int(len(data)/4)]\n",
    "training_label = label[int(len(label)/4):]\n",
    "\n",
    "\n",
    "print(len(validation_data))\n",
    "print(len(testing_data))\n",
    "print(len(training_data))\n",
    "\n",
    "clf = svm.SVC(decision_function_shape='ovo')\n",
    "clf.fit(training_data, training_label)\n",
    "clf.predict(testing_data)"
   ]
  },
  {
   "cell_type": "code",
   "execution_count": null,
   "metadata": {},
   "outputs": [],
   "source": []
  },
  {
   "cell_type": "code",
   "execution_count": null,
   "metadata": {},
   "outputs": [],
   "source": []
  }
 ],
 "metadata": {
  "kernelspec": {
   "display_name": "Python 3",
   "language": "python",
   "name": "python3"
  },
  "language_info": {
   "codemirror_mode": {
    "name": "ipython",
    "version": 3
   },
   "file_extension": ".py",
   "mimetype": "text/x-python",
   "name": "python",
   "nbconvert_exporter": "python",
   "pygments_lexer": "ipython3",
   "version": "3.7.3"
  }
 },
 "nbformat": 4,
 "nbformat_minor": 2
}
