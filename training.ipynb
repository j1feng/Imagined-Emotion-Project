{
 "cells": [
  {
   "cell_type": "code",
   "execution_count": null,
   "metadata": {},
   "outputs": [],
   "source": [
    "#!pip install --user pandas\n",
    "#!pip install --user numpy\n",
    "\n",
    "import csv\n",
    "import pandas as pd\n",
    "import numpy as np\n",
    "\n",
    "'''\n",
    "with open('rec1.csv', newline='') as csvfile:\n",
    "    reader = csv.reader(csvfile)\n",
    "    fields = next(reader)\n",
    "    rows = []\n",
    "    for row in reader:\n",
    "        rows.append(row)\n",
    "    print(\"Total no. of rows: %d\"%(reader.line_num))\n",
    "\n",
    "# printing the field names \n",
    "print('Field names are:' + ', '.join(field for field in fields)) \n",
    "  \n",
    "#  printing first 5 rows \n",
    "print('\\nFirst 5 rows are:\\n') \n",
    "for row in rows[:5]: \n",
    "    # parsing each column of a row \n",
    "    for col in row: \n",
    "        print(\"%10s\"%col), \n",
    "    print('\\n')\n",
    "'''\n",
    "\n",
    "import pandas\n",
    "df = pandas.read_csv('rec1.csv')\n",
    "print(df.head())\n",
    "\n",
    "data = [[]]\n",
    "label = []\n",
    "\n",
    "for index, row in df.iterrows():\n",
    "    label.append(int(row['Status']))\n",
    "    data.append([row['1A1'], row['1A16'], row['1A19'],row['1A21'],row['1A24'],row['1A3'],row['1A6'],row['1A7'],row['1B15'],row['1B18'],\n",
    "               row['1B21'],row['1B23'],row['1B26'],row['1B30'],row['1B7'],row['1B9'],row['1C11'],row['1C13'],row['1C15'],row['1C18'],\n",
    "               row['1C20'],row['1C23'],row['1C25'],row['1D12'],row['1D20'],row['1D24'],row['1D27'],row['1D30'],row['1D32'],row['1D5'],\n",
    "               row['1D7'],row['1D9'],row['1E1'],row['1E12'],row['1E14'],row['1E17'],row['1E23'],row['1E29'],row['1E3'],row['1E31'],\n",
    "               row['1E6'],row['1EX3'],row['1EX5'],row['1F10'],row['1F14'],row['1F21'],row['1F23'],row['1F28'],row['1F3'],\n",
    "               row['1F31'],row['1F7'],row['1G11'],row['1G13'],row['1G16'],row['1G23'],row['1G25'],row['1G30'],row['1G32'],row['1G8'],\n",
    "               row['1H16'],row['1H19'],row['1H2'],row['1H6'],row['1H9']])\n",
    "\n",
    "print(label)\n",
    "data.remove([])\n",
    "print(data[0])\n",
    "print(len(data))\n",
    "\n",
    "# partition\n",
    "validation_data = data[:int(len(data)/8)]\n",
    "testing_data = data[int(len(data)/8):int(len(data)/4)]\n",
    "training_data = data[int(len(data)/4):]\n",
    "\n",
    "print(len(validation_data))\n",
    "print(len(testing_data))\n",
    "print(len(training_data))"
   ]
  },
  {
   "cell_type": "code",
   "execution_count": null,
   "metadata": {},
   "outputs": [],
   "source": []
  }
 ],
 "metadata": {
  "kernelspec": {
   "display_name": "Python 3",
   "language": "python",
   "name": "python3"
  },
  "language_info": {
   "codemirror_mode": {
    "name": "ipython",
    "version": 3
   },
   "file_extension": ".py",
   "mimetype": "text/x-python",
   "name": "python",
   "nbconvert_exporter": "python",
   "pygments_lexer": "ipython3",
   "version": "3.7.3"
  }
 },
 "nbformat": 4,
 "nbformat_minor": 2
}
